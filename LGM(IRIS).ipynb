{
  "nbformat": 4,
  "nbformat_minor": 0,
  "metadata": {
    "colab": {
      "name": "LGM(IRIS).ipynb",
      "private_outputs": true,
      "provenance": []
    },
    "kernelspec": {
      "name": "python3",
      "display_name": "Python 3"
    },
    "language_info": {
      "name": "python"
    }
  },
  "cells": [
    {
      "cell_type": "markdown",
      "source": [
        "##IMPORTING THE LIBRARIES"
      ],
      "metadata": {
        "id": "PAtaxpLypGqI"
      }
    },
    {
      "cell_type": "code",
      "execution_count": null,
      "metadata": {
        "id": "CkBTEzL0nv_y"
      },
      "outputs": [],
      "source": [
        "import pandas as pd\n",
        "import numpy as np\n",
        "import os\n",
        "import matplotlib.pyplot as plt\n",
        "import seaborn as sns\n"
      ]
    },
    {
      "cell_type": "markdown",
      "source": [
        "##LOADING THE DATA"
      ],
      "metadata": {
        "id": "mzhdYqRipEGg"
      }
    },
    {
      "cell_type": "code",
      "source": [
        "df=pd.read_csv(\"/content/iris.data\",\n",
        "               names=[\"Sepal Length\",\"Sepal Width\",\"Petal Length\",\"Petal Width\",\"Class\"])\n",
        "df"
      ],
      "metadata": {
        "id": "QnrM0GS5o6JI"
      },
      "execution_count": null,
      "outputs": []
    },
    {
      "cell_type": "code",
      "source": [
        "df.head()"
      ],
      "metadata": {
        "id": "JM9t8eZDpb2P"
      },
      "execution_count": null,
      "outputs": []
    },
    {
      "cell_type": "code",
      "source": [
        "df.tail()"
      ],
      "metadata": {
        "id": "N064k_u9peF6"
      },
      "execution_count": null,
      "outputs": []
    },
    {
      "cell_type": "code",
      "source": [
        "df.shape"
      ],
      "metadata": {
        "id": "4abzabg4q5J8"
      },
      "execution_count": null,
      "outputs": []
    },
    {
      "cell_type": "code",
      "source": [
        "df.describe()"
      ],
      "metadata": {
        "id": "O8t3jhpVq9Id"
      },
      "execution_count": null,
      "outputs": []
    },
    {
      "cell_type": "code",
      "source": [
        "#bASIC INFO ABOUT DATATYPE\n",
        "df.info()"
      ],
      "metadata": {
        "id": "zsE_4ZSUrSP8"
      },
      "execution_count": null,
      "outputs": []
    },
    {
      "cell_type": "code",
      "source": [
        "df[\"Class\"].value_counts()"
      ],
      "metadata": {
        "id": "EBt0672Frjah"
      },
      "execution_count": null,
      "outputs": []
    },
    {
      "cell_type": "markdown",
      "source": [
        "##PREPROCESSING THE DATASET"
      ],
      "metadata": {
        "id": "3YUG3y3euSk3"
      }
    },
    {
      "cell_type": "code",
      "source": [
        "#CHECK FOR NULL VALUES\n",
        "df.isnull().sum()"
      ],
      "metadata": {
        "id": "x6xFT4ubsEcG"
      },
      "execution_count": null,
      "outputs": []
    },
    {
      "cell_type": "markdown",
      "source": [
        "##EDA(EXPLORATORY DATA ANALYSIS)"
      ],
      "metadata": {
        "id": "m81sTUymugy5"
      }
    },
    {
      "cell_type": "markdown",
      "source": [
        "#Histogram"
      ],
      "metadata": {
        "id": "iQUDDBYOvLl2"
      }
    },
    {
      "cell_type": "code",
      "source": [
        "df['Sepal Length'].hist()"
      ],
      "metadata": {
        "id": "BDeFyNsPuZtX"
      },
      "execution_count": null,
      "outputs": []
    },
    {
      "cell_type": "code",
      "source": [
        "df['Petal Length'].hist()"
      ],
      "metadata": {
        "id": "gN3u1h82urhf"
      },
      "execution_count": null,
      "outputs": []
    },
    {
      "cell_type": "code",
      "source": [
        "df['Sepal Width'].hist()"
      ],
      "metadata": {
        "id": "3Ziswmy4uzVW"
      },
      "execution_count": null,
      "outputs": []
    },
    {
      "cell_type": "code",
      "source": [
        "df['Petal Width'].hist()"
      ],
      "metadata": {
        "id": "sw1SxIA3u2qD"
      },
      "execution_count": null,
      "outputs": []
    },
    {
      "cell_type": "markdown",
      "source": [
        "#scatter plot\n"
      ],
      "metadata": {
        "id": "hx9-uDa9vI5q"
      }
    },
    {
      "cell_type": "code",
      "source": [
        "colors=['red','orange','green']\n",
        "Class=['Iris-setosa','Iris-versicolor','Iris-virginica']\n"
      ],
      "metadata": {
        "id": "dklWBILmu6kZ"
      },
      "execution_count": null,
      "outputs": []
    },
    {
      "cell_type": "code",
      "source": [
        "for i in range(3):\n",
        "  x=df[df['Class']==Class[i]]\n",
        "  plt.scatter(x['Sepal Length'],x['Sepal Width'],c=colors[i],label=Class[i])\n",
        "plt.xlabel('Sepal Length')\n",
        "plt.ylabel('Sepal width')\n",
        "plt.legend()"
      ],
      "metadata": {
        "id": "I-SbYvAwvnxD"
      },
      "execution_count": null,
      "outputs": []
    },
    {
      "cell_type": "code",
      "source": [
        "for i in range(3):\n",
        "  x=df[df['Class']==Class[i]]\n",
        "  plt.scatter(x['Petal Length'],x['Petal Width'],c=colors[i],label=Class[i])\n",
        "plt.xlabel('Petal Length')\n",
        "plt.ylabel('Petal width')\n",
        "plt.legend()"
      ],
      "metadata": {
        "id": "Iip6uoqZv9Yl"
      },
      "execution_count": null,
      "outputs": []
    },
    {
      "cell_type": "code",
      "source": [
        "for i in range(3):\n",
        "  x=df[df['Class']==Class[i]]\n",
        "  plt.scatter(x['Petal Length'],x['Sepal Length'],c=colors[i],label=Class[i])\n",
        "plt.xlabel('Petal Length')\n",
        "plt.ylabel('Sepal Length')\n",
        "plt.legend()"
      ],
      "metadata": {
        "id": "cEMhWOqYwhrr"
      },
      "execution_count": null,
      "outputs": []
    },
    {
      "cell_type": "code",
      "source": [
        "for i in range(3):\n",
        "  x=df[df['Class']==Class[i]]\n",
        "  plt.scatter(x['Sepal Width'],x['Petal Width'],c=colors[i],label=Class[i])\n",
        "plt.xlabel('Sepal width')\n",
        "plt.ylabel('Petal width')\n",
        "plt.legend()"
      ],
      "metadata": {
        "id": "7zXdEcoQwuuV"
      },
      "execution_count": null,
      "outputs": []
    },
    {
      "cell_type": "markdown",
      "source": [
        "#CORRELATION MATRIX"
      ],
      "metadata": {
        "id": "zUFOMeUiw7T8"
      }
    },
    {
      "cell_type": "code",
      "source": [
        "df.corr()"
      ],
      "metadata": {
        "id": "U6B-h87lw5vJ"
      },
      "execution_count": null,
      "outputs": []
    },
    {
      "cell_type": "code",
      "source": [
        "corr=df.corr()\n",
        "fig,ax=plt.subplots(figsize=(10,5))\n",
        "sns.heatmap(corr,annot=True,ax=ax,cmap='coolwarm')"
      ],
      "metadata": {
        "id": "4defXxUuxXZE"
      },
      "execution_count": null,
      "outputs": []
    },
    {
      "cell_type": "markdown",
      "source": [
        "##LABEL ENCODER"
      ],
      "metadata": {
        "id": "PqJ22lq1yQbs"
      }
    },
    {
      "cell_type": "code",
      "source": [
        "from sklearn.preprocessing import LabelEncoder \n",
        "le=LabelEncoder()"
      ],
      "metadata": {
        "id": "UU9ir-f1xwTz"
      },
      "execution_count": null,
      "outputs": []
    },
    {
      "cell_type": "code",
      "source": [
        "df['Class']=le.fit_transform(df['Class'])\n",
        "df.head()"
      ],
      "metadata": {
        "id": "F8oYvce2yjTe"
      },
      "execution_count": null,
      "outputs": []
    },
    {
      "cell_type": "markdown",
      "source": [
        "##MODEL TRAINING"
      ],
      "metadata": {
        "id": "9r4uDgs-y83Q"
      }
    },
    {
      "cell_type": "code",
      "source": [
        "pip install sklearn"
      ],
      "metadata": {
        "id": "LW0kf9PYzwQH"
      },
      "execution_count": null,
      "outputs": []
    },
    {
      "cell_type": "code",
      "source": [
        "pip install sklearn.model"
      ],
      "metadata": {
        "id": "kFpDBRFUz2Uk"
      },
      "execution_count": null,
      "outputs": []
    },
    {
      "cell_type": "code",
      "source": [
        "pip install -U scikit-learn"
      ],
      "metadata": {
        "id": "7XBQyCCM03_b"
      },
      "execution_count": null,
      "outputs": []
    },
    {
      "cell_type": "code",
      "source": [
        "from sklearn.model_selection import train_test_split\n",
        "x=df.drop(columns=['Class'])\n",
        "y=df['Class']\n",
        "x_train,x_test,y_train,y_test=train_test_split(x,y,test_size=0.30)"
      ],
      "metadata": {
        "id": "FfTrVQVP0xA-"
      },
      "execution_count": null,
      "outputs": []
    },
    {
      "cell_type": "code",
      "source": [
        "#logistic regression \n",
        "from sklearn.linear_model import LogisticRegression\n",
        "model=LogisticRegression()"
      ],
      "metadata": {
        "id": "wfskSUUVzLpO"
      },
      "execution_count": null,
      "outputs": []
    },
    {
      "cell_type": "code",
      "source": [
        "model.fit(x_train,y_train)"
      ],
      "metadata": {
        "id": "ijpfgz_STwGe"
      },
      "execution_count": null,
      "outputs": []
    },
    {
      "cell_type": "code",
      "source": [
        "#printing the metric to get performnave\n",
        "print(\"ACCURACY OF LOGISTIC REGRESSION:\",model.score(x_test,y_test)*100)"
      ],
      "metadata": {
        "id": "BhqFqs12T6KC"
      },
      "execution_count": null,
      "outputs": []
    },
    {
      "cell_type": "code",
      "source": [
        "from sklearn.neighbors import  KNeighborsClassifier\n",
        "model1=KNeighborsClassifier()"
      ],
      "metadata": {
        "id": "X_gvomq5UOpY"
      },
      "execution_count": null,
      "outputs": []
    },
    {
      "cell_type": "code",
      "source": [
        "model1.fit(x_train,y_train)"
      ],
      "metadata": {
        "id": "lNEFmgkXUuGt"
      },
      "execution_count": null,
      "outputs": []
    },
    {
      "cell_type": "code",
      "source": [
        "print(\"Accuracy of KNN: \",model1.score(x_test,y_test)*100)"
      ],
      "metadata": {
        "id": "3ZlxKjsEVqKo"
      },
      "execution_count": null,
      "outputs": []
    },
    {
      "cell_type": "code",
      "source": [
        "#decision tree\n",
        "from sklearn.tree import DecisionTreeClassifier\n",
        "model2=DecisionTreeClassifier()"
      ],
      "metadata": {
        "id": "-O0lc-6nVvqZ"
      },
      "execution_count": null,
      "outputs": []
    },
    {
      "cell_type": "code",
      "source": [
        "model2.fit(x_train,y_train)"
      ],
      "metadata": {
        "id": "SzotsNgwWPZ4"
      },
      "execution_count": null,
      "outputs": []
    },
    {
      "cell_type": "code",
      "source": [
        "print(\"Accuracy OF DECISION TREE: \",model2.score(x_test,y_test)*100)"
      ],
      "metadata": {
        "id": "K9XCimlpWX2I"
      },
      "execution_count": null,
      "outputs": []
    },
    {
      "cell_type": "code",
      "source": [
        ""
      ],
      "metadata": {
        "id": "2j3jynAkWbsu"
      },
      "execution_count": null,
      "outputs": []
    }
  ]
}